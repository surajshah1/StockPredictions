{
 "cells": [
  {
   "cell_type": "code",
   "execution_count": 9,
   "metadata": {},
   "outputs": [],
   "source": [
    "from urllib.request import urlopen, Request\n",
    "from bs4 import BeautifulSoup\n",
    "from nltk.sentiment.vader import SentimentIntensityAnalyzer\n",
    "import pandas as pd\n",
    "import matplotlib.pyplot as plt\n",
    "\n",
    "finviz_url = 'https://finviz.com/quote.ashx?t='\n",
    "tickers = ['AMZN', 'GOOG', 'FB', 'MSFT', 'LMND']"
   ]
  },
  {
   "cell_type": "code",
   "execution_count": 10,
   "metadata": {},
   "outputs": [],
   "source": [
    "news_tables = {}\n",
    "for ticker in tickers:\n",
    "    url = finviz_url + ticker\n",
    "\n",
    "    req = Request(url=url, headers={'user-agent': 'my-app'})\n",
    "    response = urlopen(req)\n",
    "\n",
    "    html = BeautifulSoup(response, 'html.parser')\n",
    "    news_table = html.find(id='news-table')\n",
    "    news_tables[ticker] = news_table\n",
    "\n",
    "    #break\n"
   ]
  },
  {
   "cell_type": "code",
   "execution_count": 11,
   "metadata": {},
   "outputs": [],
   "source": [
    "paresed_data = []\n",
    "\n",
    "for ticker, news_table in news_tables.items():\n",
    "    for row in news_table.findAll('tr'):\n",
    "\n",
    "        title = row.a.text\n",
    "        date_data = row.td.text.split(' ')\n",
    "\n",
    "        if len(date_data) == 1:\n",
    "            time = date_data[0]\n",
    "        else:\n",
    "            date = date_data[0]\n",
    "            time = date_data[1]\n",
    "        paresed_data.append([ticker, date, time, title])\n",
    "\n",
    "df = pd.DataFrame(paresed_data, columns=['ticker', 'date', 'time', 'title'])"
   ]
  },
  {
   "cell_type": "code",
   "execution_count": 12,
   "metadata": {},
   "outputs": [],
   "source": [
    "vader = SentimentIntensityAnalyzer()\n",
    "\n",
    "f = lambda title: vader.polarity_scores(title)['compound']\n",
    "df['compound'] = df['title'].apply(f)\n",
    "df['date'] = pd.to_datetime(df.date).dt.date"
   ]
  },
  {
   "cell_type": "code",
   "execution_count": 13,
   "metadata": {},
   "outputs": [
    {
     "name": "stdout",
     "output_type": "stream",
     "text": [
      "ticker          AMZN        FB      GOOG      LMND      MSFT\n",
      "date                                                        \n",
      "2020-07-01       NaN       NaN       NaN  0.000000       NaN\n",
      "2020-07-02       NaN       NaN       NaN  0.164657       NaN\n",
      "2020-07-03       NaN       NaN       NaN  0.292950       NaN\n",
      "2020-07-05       NaN       NaN       NaN  0.271150       NaN\n",
      "2020-07-06       NaN       NaN       NaN  0.578900       NaN\n",
      "2020-07-07       NaN       NaN       NaN  0.125000       NaN\n",
      "2020-07-08       NaN       NaN       NaN  0.000000       NaN\n",
      "2020-07-09       NaN       NaN       NaN  0.000000       NaN\n",
      "2020-07-14       NaN       NaN       NaN  0.000000       NaN\n",
      "2020-07-15       NaN       NaN       NaN  0.000000       NaN\n",
      "2020-07-20       NaN       NaN       NaN  0.340000       NaN\n",
      "2020-07-21       NaN       NaN       NaN  0.340000       NaN\n",
      "2020-07-27       NaN       NaN       NaN  0.000000       NaN\n",
      "2020-07-28       NaN       NaN       NaN  0.000000       NaN\n",
      "2020-07-29       NaN       NaN       NaN  0.000000       NaN\n",
      "2020-08-03       NaN       NaN       NaN  0.000000       NaN\n",
      "2020-08-06       NaN       NaN       NaN  0.160900       NaN\n",
      "2020-08-08       NaN       NaN       NaN  0.000000       NaN\n",
      "2020-08-09       NaN       NaN       NaN  0.000000       NaN\n",
      "2020-08-11       NaN -0.113755       NaN  0.164925       NaN\n",
      "2020-08-12       NaN -0.141560       NaN  0.000000  0.000000\n",
      "2020-08-13       NaN  0.059891 -0.411250  0.000000 -0.013708\n",
      "2020-08-14       NaN -0.132435 -0.159883  0.000000  0.038355\n",
      "2020-08-15       NaN  0.088950  0.038250       NaN  0.174614\n",
      "2020-08-16       NaN  0.030380 -0.154233  0.000000  0.007600\n",
      "2020-08-17       NaN -0.030080  0.012760       NaN  0.127122\n",
      "2020-08-18  0.044890  0.082570 -0.005218       NaN  0.051153\n",
      "2020-08-19  0.040627  0.029600  0.021290 -0.102700  0.027894\n"
     ]
    },
    {
     "data": {
      "text/plain": [
       "<Figure size 720x576 with 0 Axes>"
      ]
     },
     "metadata": {},
     "output_type": "display_data"
    },
    {
     "data": {
      "image/png": "[encoded data removed]",
      "text/plain": [
       "<Figure size 432x288 with 1 Axes>"
      ]
     },
     "metadata": {
      "needs_background": "light"
     },
     "output_type": "display_data"
    }
   ],
   "source": [
    "plt.figure(figsize=(10,8))\n",
    "\n",
    "mean_df = df.groupby(['ticker', 'date']).mean()\n",
    "mean_df = mean_df.unstack()\n",
    "mean_df = mean_df.xs('compound', axis=\"columns\").transpose()\n",
    "mean_df.plot(kind='bar')\n",
    "print(mean_df)\n",
    "plt.show()"
   ]
  },
  {
   "cell_type": "code",
   "execution_count": null,
   "metadata": {},
   "outputs": [],
   "source": []
  },
  {
   "cell_type": "code",
   "execution_count": null,
   "metadata": {},
   "outputs": [],
   "source": []
  },
  {
   "cell_type": "code",
   "execution_count": null,
   "metadata": {},
   "outputs": [],
   "source": []
  }
 ],
 "metadata": {
  "kernelspec": {
   "display_name": "Python 3",
   "language": "python",
   "name": "python3"
  },
  "language_info": {
   "codemirror_mode": {
    "name": "ipython",
    "version": 3
   },
   "file_extension": ".py",
   "mimetype": "text/x-python",
   "name": "python",
   "nbconvert_exporter": "python",
   "pygments_lexer": "ipython3",
   "version": "3.8.3"
  }
 },
 "nbformat": 4,
 "nbformat_minor": 4
}
