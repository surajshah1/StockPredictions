{
 "cells": [
  {
   "cell_type": "code",
   "execution_count": 1,
   "metadata": {},
   "outputs": [],
   "source": [
    "#Import dependencies\n",
    "import numpy as np\n",
    "import pandas as pd\n",
    "import matplotlib.pyplot as plt\n",
    "\n",
    "#preprocessing\n",
    "from sklearn.preprocessing import MinMaxScaler\n",
    "from keras.models import Sequential, load_model\n",
    "from keras.layers import LSTM, Dense, Dropout\n",
    "\n",
    "import os\n",
    "import tensorflow as tf"
   ]
  },
  {
   "cell_type": "code",
   "execution_count": 2,
   "metadata": {
    "scrolled": false
   },
   "outputs": [
    {
     "data": {
      "text/html": [
       "<div>\n",
       "<style scoped>\n",
       "    .dataframe tbody tr th:only-of-type {\n",
       "        vertical-align: middle;\n",
       "    }\n",
       "\n",
       "    .dataframe tbody tr th {\n",
       "        vertical-align: top;\n",
       "    }\n",
       "\n",
       "    .dataframe thead th {\n",
       "        text-align: right;\n",
       "    }\n",
       "</style>\n",
       "<table border=\"1\" class=\"dataframe\">\n",
       "  <thead>\n",
       "    <tr style=\"text-align: right;\">\n",
       "      <th></th>\n",
       "      <th>date</th>\n",
       "      <th>open</th>\n",
       "      <th>high</th>\n",
       "      <th>low</th>\n",
       "      <th>close</th>\n",
       "      <th>volume</th>\n",
       "      <th>Name</th>\n",
       "    </tr>\n",
       "  </thead>\n",
       "  <tbody>\n",
       "    <tr>\n",
       "      <th>0</th>\n",
       "      <td>2013-02-08</td>\n",
       "      <td>67.7142</td>\n",
       "      <td>68.4014</td>\n",
       "      <td>66.8928</td>\n",
       "      <td>67.8542</td>\n",
       "      <td>158168416</td>\n",
       "      <td>AAPL</td>\n",
       "    </tr>\n",
       "    <tr>\n",
       "      <th>1</th>\n",
       "      <td>2013-02-11</td>\n",
       "      <td>68.0714</td>\n",
       "      <td>69.2771</td>\n",
       "      <td>67.6071</td>\n",
       "      <td>68.5614</td>\n",
       "      <td>129029425</td>\n",
       "      <td>AAPL</td>\n",
       "    </tr>\n",
       "    <tr>\n",
       "      <th>2</th>\n",
       "      <td>2013-02-12</td>\n",
       "      <td>68.5014</td>\n",
       "      <td>68.9114</td>\n",
       "      <td>66.8205</td>\n",
       "      <td>66.8428</td>\n",
       "      <td>151829363</td>\n",
       "      <td>AAPL</td>\n",
       "    </tr>\n",
       "    <tr>\n",
       "      <th>3</th>\n",
       "      <td>2013-02-13</td>\n",
       "      <td>66.7442</td>\n",
       "      <td>67.6628</td>\n",
       "      <td>66.1742</td>\n",
       "      <td>66.7156</td>\n",
       "      <td>118721995</td>\n",
       "      <td>AAPL</td>\n",
       "    </tr>\n",
       "    <tr>\n",
       "      <th>4</th>\n",
       "      <td>2013-02-14</td>\n",
       "      <td>66.3599</td>\n",
       "      <td>67.3771</td>\n",
       "      <td>66.2885</td>\n",
       "      <td>66.6556</td>\n",
       "      <td>88809154</td>\n",
       "      <td>AAPL</td>\n",
       "    </tr>\n",
       "    <tr>\n",
       "      <th>5</th>\n",
       "      <td>2013-02-15</td>\n",
       "      <td>66.9785</td>\n",
       "      <td>67.1656</td>\n",
       "      <td>65.7028</td>\n",
       "      <td>65.7371</td>\n",
       "      <td>97924631</td>\n",
       "      <td>AAPL</td>\n",
       "    </tr>\n",
       "    <tr>\n",
       "      <th>6</th>\n",
       "      <td>2013-02-19</td>\n",
       "      <td>65.8714</td>\n",
       "      <td>66.1042</td>\n",
       "      <td>64.8356</td>\n",
       "      <td>65.7128</td>\n",
       "      <td>108854046</td>\n",
       "      <td>AAPL</td>\n",
       "    </tr>\n",
       "    <tr>\n",
       "      <th>7</th>\n",
       "      <td>2013-02-20</td>\n",
       "      <td>65.3842</td>\n",
       "      <td>65.3842</td>\n",
       "      <td>64.1142</td>\n",
       "      <td>64.1214</td>\n",
       "      <td>118891367</td>\n",
       "      <td>AAPL</td>\n",
       "    </tr>\n",
       "    <tr>\n",
       "      <th>8</th>\n",
       "      <td>2013-02-21</td>\n",
       "      <td>63.7142</td>\n",
       "      <td>64.1671</td>\n",
       "      <td>63.2599</td>\n",
       "      <td>63.7228</td>\n",
       "      <td>111596821</td>\n",
       "      <td>AAPL</td>\n",
       "    </tr>\n",
       "    <tr>\n",
       "      <th>9</th>\n",
       "      <td>2013-02-22</td>\n",
       "      <td>64.1785</td>\n",
       "      <td>64.5142</td>\n",
       "      <td>63.7999</td>\n",
       "      <td>64.4014</td>\n",
       "      <td>82583823</td>\n",
       "      <td>AAPL</td>\n",
       "    </tr>\n",
       "  </tbody>\n",
       "</table>\n",
       "</div>"
      ],
      "text/plain": [
       "         date     open     high      low    close     volume  Name\n",
       "0  2013-02-08  67.7142  68.4014  66.8928  67.8542  158168416  AAPL\n",
       "1  2013-02-11  68.0714  69.2771  67.6071  68.5614  129029425  AAPL\n",
       "2  2013-02-12  68.5014  68.9114  66.8205  66.8428  151829363  AAPL\n",
       "3  2013-02-13  66.7442  67.6628  66.1742  66.7156  118721995  AAPL\n",
       "4  2013-02-14  66.3599  67.3771  66.2885  66.6556   88809154  AAPL\n",
       "5  2013-02-15  66.9785  67.1656  65.7028  65.7371   97924631  AAPL\n",
       "6  2013-02-19  65.8714  66.1042  64.8356  65.7128  108854046  AAPL\n",
       "7  2013-02-20  65.3842  65.3842  64.1142  64.1214  118891367  AAPL\n",
       "8  2013-02-21  63.7142  64.1671  63.2599  63.7228  111596821  AAPL\n",
       "9  2013-02-22  64.1785  64.5142  63.7999  64.4014   82583823  AAPL"
      ]
     },
     "execution_count": 2,
     "metadata": {},
     "output_type": "execute_result"
    }
   ],
   "source": [
    "#using Apple stock data from 2013 to 2018\n",
    "df = pd.read_csv(r'/Users/suraj/OneDrive/Documents/csProjects/stockPrices/pricePrediction/AAPL.csv')\n",
    "df.head(10)"
   ]
  },
  {
   "cell_type": "code",
   "execution_count": 3,
   "metadata": {
    "scrolled": true
   },
   "outputs": [
    {
     "name": "stdout",
     "output_type": "stream",
     "text": [
      "(1259, 1)\n"
     ]
    },
    {
     "data": {
      "text/plain": [
       "array([[67.8542],\n",
       "       [68.5614],\n",
       "       [66.8428],\n",
       "       [66.7156],\n",
       "       [66.6556],\n",
       "       [65.7371],\n",
       "       [65.7128]])"
      ]
     },
     "execution_count": 3,
     "metadata": {},
     "output_type": "execute_result"
    }
   ],
   "source": [
    "#preprocessing of data\n",
    "#change to close values\n",
    "df = df['close'].values\n",
    "#keras requirement to reshape data\n",
    "df = df.reshape(-1,1)\n",
    "#what does the shape look like?\n",
    "print(df.shape)\n",
    "#looking at the first 7 entries\n",
    "df[:7]"
   ]
  },
  {
   "cell_type": "code",
   "execution_count": 4,
   "metadata": {},
   "outputs": [
    {
     "name": "stdout",
     "output_type": "stream",
     "text": [
      "(1007, 1)\n",
      "(302, 1)\n"
     ]
    }
   ],
   "source": [
    "#create training data set and test data set\n",
    "#using 80% of data for training\n",
    "dataset_train = np.array(df[:int(df.shape[0]*0.8)])\n",
    "#using 20% of data for training\n",
    "#I subtract 50 to overlap with the training dataset (required for fitting LSTM model)\n",
    "dataset_test = np.array(df[int(df.shape[0]*0.8)-50:])\n",
    "print(dataset_train.shape)\n",
    "print(dataset_test.shape)"
   ]
  },
  {
   "cell_type": "code",
   "execution_count": 5,
   "metadata": {
    "scrolled": true
   },
   "outputs": [
    {
     "data": {
      "text/plain": [
       "array([[0.15625287],\n",
       "       [0.1654123 ],\n",
       "       [0.14315355],\n",
       "       [0.1415061 ],\n",
       "       [0.140729  ],\n",
       "       [0.12883289],\n",
       "       [0.12851816]])"
      ]
     },
     "execution_count": 5,
     "metadata": {},
     "output_type": "execute_result"
    }
   ],
   "source": [
    "#scale the stock price data to a factor of 1\n",
    "scaler = MinMaxScaler(feature_range=(0,1))\n",
    "#fit this range on the dataset and apply this range\n",
    "dataset_train = scaler.fit_transform(dataset_train)\n",
    "#how does the data look?\n",
    "dataset_train[:7]"
   ]
  },
  {
   "cell_type": "code",
   "execution_count": 6,
   "metadata": {},
   "outputs": [
    {
     "data": {
      "text/plain": [
       "array([[0.72529501],\n",
       "       [0.72244564],\n",
       "       [0.72102095],\n",
       "       [0.70884638],\n",
       "       [0.69550616],\n",
       "       [0.70081634],\n",
       "       [0.69058452]])"
      ]
     },
     "execution_count": 6,
     "metadata": {},
     "output_type": "execute_result"
    }
   ],
   "source": [
    "#apply the scaling to the test data as well\n",
    "#dont use fit_transform because the test data should not influence the scaling (preprocessing)\n",
    "#this should be data the model has not been trained on (has not seen)\n",
    "dataset_test = scaler.transform(dataset_test)\n",
    "#check data\n",
    "dataset_test[:7]"
   ]
  },
  {
   "cell_type": "code",
   "execution_count": 7,
   "metadata": {},
   "outputs": [],
   "source": [
    "#helper function to create batches of 50 days\n",
    "def create_my_dataset(df):\n",
    "    x = []\n",
    "    y = []\n",
    "    #use 1007 data\n",
    "    for i in range(50, df.shape[0]):\n",
    "        #0-49 here\n",
    "        x.append(df[i-50:i, 0])\n",
    "        #50th here\n",
    "        y.append(df[i, 0])\n",
    "    #convert list to array\n",
    "    x = np.array(x)\n",
    "    y = np.array(y)\n",
    "    return x,y"
   ]
  },
  {
   "cell_type": "code",
   "execution_count": 8,
   "metadata": {
    "scrolled": true
   },
   "outputs": [
    {
     "data": {
      "text/plain": [
       "array([[0.15625287, 0.1654123 , 0.14315355, 0.1415061 , 0.140729  ,\n",
       "        0.12883289, 0.12851816, 0.10790687, 0.10274433, 0.11153334,\n",
       "        0.09671274, 0.10812834, 0.09998692, 0.0941224 , 0.07389966,\n",
       "        0.0546198 , 0.07514561, 0.06500315, 0.07410688, 0.07621153,\n",
       "        0.08759087, 0.07012425, 0.0699766 , 0.07765564, 0.0983032 ,\n",
       "        0.12061764, 0.11834203, 0.11388277, 0.11508468, 0.1320708 ,\n",
       "        0.13515978, 0.13063835, 0.11388277, 0.0964537 , 0.07101273,\n",
       "        0.07264464, 0.07671147, 0.06881095, 0.06044805, 0.06601727,\n",
       "        0.06744195, 0.08355772, 0.08104121, 0.07265889, 0.05424938,\n",
       "        0.06607296, 0.02270299, 0.0028131 , 0.        , 0.0150615 ]])"
      ]
     },
     "execution_count": 8,
     "metadata": {},
     "output_type": "execute_result"
    }
   ],
   "source": [
    "X_train, y_train = create_my_dataset(dataset_train)\n",
    "X_train[:1]"
   ]
  },
  {
   "cell_type": "code",
   "execution_count": 9,
   "metadata": {},
   "outputs": [
    {
     "data": {
      "text/plain": [
       "array([0.0288641])"
      ]
     },
     "execution_count": 9,
     "metadata": {},
     "output_type": "execute_result"
    }
   ],
   "source": [
    "y_train[:1]"
   ]
  },
  {
   "cell_type": "code",
   "execution_count": 10,
   "metadata": {
    "scrolled": true
   },
   "outputs": [
    {
     "data": {
      "text/plain": [
       "array([[0.72529501, 0.72244564, 0.72102095, 0.70884638, 0.69550616,\n",
       "        0.70081634, 0.69058452, 0.70146393, 0.71545173, 0.72956906,\n",
       "        0.75327062, 0.74485203, 0.7693307 , 0.7693307 , 0.77749025,\n",
       "        0.779433  , 0.78811062, 0.79212564, 0.79355033, 0.78357754,\n",
       "        0.78655642, 0.79614066, 0.78966482, 0.78927627, 0.77749025,\n",
       "        0.7817643 , 0.78008059, 0.78772207, 0.80455925, 0.81854706,\n",
       "        0.82010126, 0.82839033, 0.82191449, 0.81919464, 0.83162825,\n",
       "        0.83149873, 0.82877888, 0.83162825, 0.83266438, 0.8312397 ,\n",
       "        0.85597739, 0.85675449, 0.85688401, 0.85273947, 0.849113  ,\n",
       "        0.94495539, 0.94210602, 0.94922944, 0.96490097, 0.98096104]])"
      ]
     },
     "execution_count": 10,
     "metadata": {},
     "output_type": "execute_result"
    }
   ],
   "source": [
    "X_test, y_test = create_my_dataset(dataset_test)\n",
    "X_test[:1]"
   ]
  },
  {
   "cell_type": "code",
   "execution_count": 11,
   "metadata": {
    "scrolled": true
   },
   "outputs": [
    {
     "name": "stdout",
     "output_type": "stream",
     "text": [
      "(957, 50, 1)\n",
      "(252, 50, 1)\n"
     ]
    }
   ],
   "source": [
    "#reshaping for LSTM\n",
    "#1. batch \n",
    "#2. timesteps\n",
    "#3. features\n",
    "X_train = np.reshape(X_train, (X_train.shape[0],X_train.shape[1],1))\n",
    "X_test = np.reshape(X_test, (X_test.shape[0], X_test.shape[1],1))\n",
    "\n",
    "print(X_train.shape)\n",
    "print(X_test.shape)\n",
    "\n",
    "#957 entries 50 timesteps 1 feature (closing price)"
   ]
  },
  {
   "cell_type": "code",
   "execution_count": 12,
   "metadata": {},
   "outputs": [],
   "source": [
    "tf.compat.v1.logging.set_verbosity(tf.compat.v1.logging.ERROR)\n",
    "model = Sequential()\n",
    "#96 LSTM cells\n",
    "model.add(LSTM(units=96, return_sequences=True, input_shape=(X_train.shape[1],1)))\n",
    "#to account for overfitting\n",
    "model.add(Dropout(0.2))\n",
    "#input_shape is only defined in the first layer in Keras\n",
    "model.add(LSTM(units=96, return_sequences=True))\n",
    "model.add(Dropout(0.2))\n",
    "#default return_sequnce is False for this layer\n",
    "model.add(LSTM(units=96))\n",
    "model.add(Dropout(0.2))\n",
    "#normal layer\n",
    "model.add(Dense(units=1))"
   ]
  },
  {
   "cell_type": "code",
   "execution_count": 13,
   "metadata": {
    "scrolled": true
   },
   "outputs": [
    {
     "name": "stdout",
     "output_type": "stream",
     "text": [
      "Model: \"sequential\"\n",
      "_________________________________________________________________\n",
      "Layer (type)                 Output Shape              Param #   \n",
      "=================================================================\n",
      "lstm (LSTM)                  (None, 50, 96)            37632     \n",
      "_________________________________________________________________\n",
      "dropout (Dropout)            (None, 50, 96)            0         \n",
      "_________________________________________________________________\n",
      "lstm_1 (LSTM)                (None, 50, 96)            74112     \n",
      "_________________________________________________________________\n",
      "dropout_1 (Dropout)          (None, 50, 96)            0         \n",
      "_________________________________________________________________\n",
      "lstm_2 (LSTM)                (None, 96)                74112     \n",
      "_________________________________________________________________\n",
      "dropout_2 (Dropout)          (None, 96)                0         \n",
      "_________________________________________________________________\n",
      "dense (Dense)                (None, 1)                 97        \n",
      "=================================================================\n",
      "Total params: 185,953\n",
      "Trainable params: 185,953\n",
      "Non-trainable params: 0\n",
      "_________________________________________________________________\n"
     ]
    }
   ],
   "source": [
    "model.summary()"
   ]
  },
  {
   "cell_type": "code",
   "execution_count": 21,
   "metadata": {},
   "outputs": [],
   "source": [
    "model.compile(loss='mean_squared_error', optimizer ='adam')"
   ]
  },
  {
   "cell_type": "code",
   "execution_count": 22,
   "metadata": {},
   "outputs": [
    {
     "name": "stdout",
     "output_type": "stream",
     "text": [
      "Epoch 1/50\n",
      "30/30 [==============================] - 2s 51ms/step - loss: 0.0037\n",
      "Epoch 2/50\n",
      "30/30 [==============================] - 2s 51ms/step - loss: 0.0020\n",
      "Epoch 3/50\n",
      "30/30 [==============================] - 2s 50ms/step - loss: 0.0024\n",
      "Epoch 4/50\n",
      "30/30 [==============================] - 2s 51ms/step - loss: 0.0020\n",
      "Epoch 5/50\n",
      "30/30 [==============================] - 1s 50ms/step - loss: 0.0024\n",
      "Epoch 6/50\n",
      "30/30 [==============================] - 2s 50ms/step - loss: 0.0021\n",
      "Epoch 7/50\n",
      "30/30 [==============================] - 2s 50ms/step - loss: 0.0023\n",
      "Epoch 8/50\n",
      "30/30 [==============================] - 2s 50ms/step - loss: 0.0022\n",
      "Epoch 9/50\n",
      "30/30 [==============================] - 2s 50ms/step - loss: 0.0021\n",
      "Epoch 10/50\n",
      "30/30 [==============================] - 2s 50ms/step - loss: 0.0022\n",
      "Epoch 11/50\n",
      "30/30 [==============================] - 2s 50ms/step - loss: 0.0022\n",
      "Epoch 12/50\n",
      "30/30 [==============================] - 2s 50ms/step - loss: 0.0021\n",
      "Epoch 13/50\n",
      "30/30 [==============================] - 2s 50ms/step - loss: 0.0021\n",
      "Epoch 14/50\n",
      "30/30 [==============================] - 2s 50ms/step - loss: 0.0019\n",
      "Epoch 15/50\n",
      "30/30 [==============================] - 2s 50ms/step - loss: 0.0018\n",
      "Epoch 16/50\n",
      "30/30 [==============================] - 2s 50ms/step - loss: 0.0020\n",
      "Epoch 17/50\n",
      "30/30 [==============================] - 2s 51ms/step - loss: 0.0018\n",
      "Epoch 18/50\n",
      "30/30 [==============================] - 2s 51ms/step - loss: 0.0018\n",
      "Epoch 19/50\n",
      "30/30 [==============================] - 2s 50ms/step - loss: 0.0022\n",
      "Epoch 20/50\n",
      "30/30 [==============================] - 2s 51ms/step - loss: 0.0023\n",
      "Epoch 21/50\n",
      "30/30 [==============================] - 2s 51ms/step - loss: 0.0019\n",
      "Epoch 22/50\n",
      "30/30 [==============================] - 2s 51ms/step - loss: 0.0019\n",
      "Epoch 23/50\n",
      "30/30 [==============================] - 2s 51ms/step - loss: 0.0018\n",
      "Epoch 24/50\n",
      "30/30 [==============================] - 2s 51ms/step - loss: 0.0018\n",
      "Epoch 25/50\n",
      "30/30 [==============================] - 2s 52ms/step - loss: 0.0016\n",
      "Epoch 26/50\n",
      "30/30 [==============================] - 2s 52ms/step - loss: 0.0016\n",
      "Epoch 27/50\n",
      "30/30 [==============================] - 2s 52ms/step - loss: 0.0018\n",
      "Epoch 28/50\n",
      "30/30 [==============================] - 2s 52ms/step - loss: 0.0022\n",
      "Epoch 29/50\n",
      "30/30 [==============================] - 2s 51ms/step - loss: 0.0019\n",
      "Epoch 30/50\n",
      "30/30 [==============================] - 2s 52ms/step - loss: 0.0019\n",
      "Epoch 31/50\n",
      "30/30 [==============================] - 2s 51ms/step - loss: 0.0016\n",
      "Epoch 32/50\n",
      "30/30 [==============================] - 2s 50ms/step - loss: 0.0014\n",
      "Epoch 33/50\n",
      "30/30 [==============================] - 2s 51ms/step - loss: 0.0017\n",
      "Epoch 34/50\n",
      "30/30 [==============================] - 2s 51ms/step - loss: 0.0013\n",
      "Epoch 35/50\n",
      "30/30 [==============================] - 2s 51ms/step - loss: 0.0014\n",
      "Epoch 36/50\n",
      "30/30 [==============================] - 2s 50ms/step - loss: 0.0016\n",
      "Epoch 37/50\n",
      "30/30 [==============================] - 2s 50ms/step - loss: 0.0016\n",
      "Epoch 38/50\n",
      "30/30 [==============================] - 2s 50ms/step - loss: 0.0016\n",
      "Epoch 39/50\n",
      "30/30 [==============================] - 2s 50ms/step - loss: 0.0015\n",
      "Epoch 40/50\n",
      "30/30 [==============================] - 2s 50ms/step - loss: 0.0016\n",
      "Epoch 41/50\n",
      "30/30 [==============================] - 2s 50ms/step - loss: 0.0015\n",
      "Epoch 42/50\n",
      "30/30 [==============================] - 2s 51ms/step - loss: 0.0015\n",
      "Epoch 43/50\n",
      "30/30 [==============================] - 2s 51ms/step - loss: 0.0016\n",
      "Epoch 44/50\n",
      "30/30 [==============================] - 2s 51ms/step - loss: 0.0016\n",
      "Epoch 45/50\n",
      "30/30 [==============================] - 2s 51ms/step - loss: 0.0015\n",
      "Epoch 46/50\n",
      "30/30 [==============================] - 1s 49ms/step - loss: 0.0014\n",
      "Epoch 47/50\n",
      "30/30 [==============================] - 1s 48ms/step - loss: 0.0014\n",
      "Epoch 48/50\n",
      "30/30 [==============================] - 1s 48ms/step - loss: 0.0012\n",
      "Epoch 49/50\n",
      "30/30 [==============================] - 1s 48ms/step - loss: 0.0014\n",
      "Epoch 50/50\n",
      "30/30 [==============================] - 1s 48ms/step - loss: 0.0014\n"
     ]
    }
   ],
   "source": [
    "if(not os.path.exists(r'/Users/suraj/OneDrive/Documents/csProjects/stockPrices/pricePrediction/lstm_prediction1.h5')):\n",
    "    #training process\n",
    "    model.fit(X_train, y_train, epochs=50, batch_size=32)\n",
    "    model.save(r'/Users/suraj/OneDrive/Documents/csProjects/stockPrices/pricePrediction/lstm_prediction1.h5')"
   ]
  },
  {
   "cell_type": "code",
   "execution_count": 23,
   "metadata": {},
   "outputs": [],
   "source": [
    "model = load_model(r'/Users/suraj/OneDrive/Documents/csProjects/stockPrices/pricePrediction/lstm_prediction1.h5')"
   ]
  },
  {
   "cell_type": "code",
   "execution_count": 24,
   "metadata": {
    "scrolled": true
   },
   "outputs": [
    {
     "name": "stdout",
     "output_type": "stream",
     "text": [
      "range(1007, 1259)\n"
     ]
    },
    {
     "data": {
      "image/png": "[encoded data removed]",
      "text/plain": [
       "<Figure size 1008x360 with 1 Axes>"
      ]
     },
     "metadata": {
      "needs_background": "light"
     },
     "output_type": "display_data"
    }
   ],
   "source": [
    "#visualizing predictions\n",
    "%matplotlib inline\n",
    "predictions = model.predict(X_test)\n",
    "#inverse the scaling we did to return actual stock prices not 0-1 values\n",
    "predictions = scaler.inverse_transform(predictions)\n",
    "\n",
    "fig, ax = plt.subplots(figsize=(14,5))\n",
    "plt.plot(df, color='red', label='original price')\n",
    "ax.plot(range(len(y_train)+50, len(y_train)+50+len(predictions)),predictions,color='blue', label='predicted prices')\n",
    "\n",
    "plt.legend()\n",
    "\n",
    "print(range(len(y_train)+50, len(y_train)+50+len(predictions)))\n",
    "\n",
    "#took in 50 days of stock prices and predicted the 51st "
   ]
  },
  {
   "cell_type": "code",
   "execution_count": 26,
   "metadata": {},
   "outputs": [
    {
     "data": {
      "text/plain": [
       "<matplotlib.legend.Legend at 0x7f9f7efc2940>"
      ]
     },
     "execution_count": 26,
     "metadata": {},
     "output_type": "execute_result"
    },
    {
     "data": {
      "image/png": "[encoded data removed]",
      "text/plain": [
       "<Figure size 1080x288 with 1 Axes>"
      ]
     },
     "metadata": {
      "needs_background": "light"
     },
     "output_type": "display_data"
    }
   ],
   "source": [
    "y_test_scaled = scaler.inverse_transform(y_test.reshape(-1,1))\n",
    "\n",
    "fig, ax = plt.subplots(figsize=(15,4))\n",
    "ax.plot(y_test_scaled, color='red', label = 'Actual price from testing set')\n",
    "plt.plot(predictions, color = 'blue', label='predicted')\n",
    "plt.legend()\n",
    "\n",
    "#zoomed in"
   ]
  },
  {
   "cell_type": "code",
   "execution_count": null,
   "metadata": {},
   "outputs": [],
   "source": []
  }
 ],
 "metadata": {
  "kernelspec": {
   "display_name": "Python 3",
   "language": "python",
   "name": "python3"
  },
  "language_info": {
   "codemirror_mode": {
    "name": "ipython",
    "version": 3
   },
   "file_extension": ".py",
   "mimetype": "text/x-python",
   "name": "python",
   "nbconvert_exporter": "python",
   "pygments_lexer": "ipython3",
   "version": "3.8.3"
  }
 },
 "nbformat": 4,
 "nbformat_minor": 2
}
