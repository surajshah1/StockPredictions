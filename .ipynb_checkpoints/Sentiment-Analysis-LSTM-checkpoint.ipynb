{
 "cells": [
  {
   "cell_type": "code",
   "execution_count": 1,
   "metadata": {
    "scrolled": true
   },
   "outputs": [],
   "source": [
    "import numpy as np\n",
    "import pandas as pd\n",
    "import matplotlib.pyplot as plt\n",
    "from sklearn.model_selection import train_test_split\n",
    "\n",
    "import re\n",
    "\n",
    "from keras.models import Sequential, load_model\n",
    "from keras.layers import LSTM, Dense, Embedding, Dropout\n",
    "from keras.preprocessing.text import Tokenizer\n",
    "from keras.preprocessing.sequence import pad_sequences"
   ]
  },
  {
   "cell_type": "code",
   "execution_count": 2,
   "metadata": {
    "scrolled": true
   },
   "outputs": [
    {
     "data": {
      "text/html": [
       "<div>\n",
       "<style scoped>\n",
       "    .dataframe tbody tr th:only-of-type {\n",
       "        vertical-align: middle;\n",
       "    }\n",
       "\n",
       "    .dataframe tbody tr th {\n",
       "        vertical-align: top;\n",
       "    }\n",
       "\n",
       "    .dataframe thead th {\n",
       "        text-align: right;\n",
       "    }\n",
       "</style>\n",
       "<table border=\"1\" class=\"dataframe\">\n",
       "  <thead>\n",
       "    <tr style=\"text-align: right;\">\n",
       "      <th></th>\n",
       "      <th>tweet_id</th>\n",
       "      <th>airline_sentiment</th>\n",
       "      <th>airline_sentiment_confidence</th>\n",
       "      <th>negativereason</th>\n",
       "      <th>negativereason_confidence</th>\n",
       "      <th>airline</th>\n",
       "      <th>airline_sentiment_gold</th>\n",
       "      <th>name</th>\n",
       "      <th>negativereason_gold</th>\n",
       "      <th>retweet_count</th>\n",
       "      <th>text</th>\n",
       "      <th>tweet_coord</th>\n",
       "      <th>tweet_created</th>\n",
       "      <th>tweet_location</th>\n",
       "      <th>user_timezone</th>\n",
       "    </tr>\n",
       "  </thead>\n",
       "  <tbody>\n",
       "    <tr>\n",
       "      <th>0</th>\n",
       "      <td>569817817522044928</td>\n",
       "      <td>negative</td>\n",
       "      <td>1.0000</td>\n",
       "      <td>Cancelled Flight</td>\n",
       "      <td>1.0000</td>\n",
       "      <td>American</td>\n",
       "      <td>NaN</td>\n",
       "      <td>JonGroom90</td>\n",
       "      <td>NaN</td>\n",
       "      <td>1</td>\n",
       "      <td>@AmericanAir not only did you Cancelled Flight...</td>\n",
       "      <td>NaN</td>\n",
       "      <td>2015-02-23 03:15:29 -0800</td>\n",
       "      <td>Bexleyheath</td>\n",
       "      <td>Amsterdam</td>\n",
       "    </tr>\n",
       "    <tr>\n",
       "      <th>1</th>\n",
       "      <td>569614024578600960</td>\n",
       "      <td>positive</td>\n",
       "      <td>1.0000</td>\n",
       "      <td>NaN</td>\n",
       "      <td>NaN</td>\n",
       "      <td>Virgin America</td>\n",
       "      <td>NaN</td>\n",
       "      <td>HollywoodHotMom</td>\n",
       "      <td>NaN</td>\n",
       "      <td>0</td>\n",
       "      <td>@VirginAmerica you have amazing staff &amp;amp; su...</td>\n",
       "      <td>NaN</td>\n",
       "      <td>2015-02-22 13:45:41 -0800</td>\n",
       "      <td>All Over!</td>\n",
       "      <td>Pacific Time (US &amp; Canada)</td>\n",
       "    </tr>\n",
       "    <tr>\n",
       "      <th>2</th>\n",
       "      <td>569890099917246464</td>\n",
       "      <td>positive</td>\n",
       "      <td>1.0000</td>\n",
       "      <td>NaN</td>\n",
       "      <td>NaN</td>\n",
       "      <td>Delta</td>\n",
       "      <td>NaN</td>\n",
       "      <td>Fahrenheit350</td>\n",
       "      <td>NaN</td>\n",
       "      <td>0</td>\n",
       "      <td>@JetBlue @jeff_hofmann @DeniseJTaylor @LaurieA...</td>\n",
       "      <td>NaN</td>\n",
       "      <td>2015-02-23 08:02:42 -0800</td>\n",
       "      <td>Salt Lake City, Utah</td>\n",
       "      <td>Mountain Time (US &amp; Canada)</td>\n",
       "    </tr>\n",
       "    <tr>\n",
       "      <th>3</th>\n",
       "      <td>567773609939058688</td>\n",
       "      <td>negative</td>\n",
       "      <td>1.0000</td>\n",
       "      <td>Customer Service Issue</td>\n",
       "      <td>0.7007</td>\n",
       "      <td>United</td>\n",
       "      <td>NaN</td>\n",
       "      <td>bernardfparsons</td>\n",
       "      <td>NaN</td>\n",
       "      <td>0</td>\n",
       "      <td>@united quick response offering assistance but...</td>\n",
       "      <td>NaN</td>\n",
       "      <td>2015-02-17 11:52:31 -0800</td>\n",
       "      <td>Ontario, Canada</td>\n",
       "      <td>Eastern Time (US &amp; Canada)</td>\n",
       "    </tr>\n",
       "    <tr>\n",
       "      <th>4</th>\n",
       "      <td>568335451741749248</td>\n",
       "      <td>positive</td>\n",
       "      <td>0.6465</td>\n",
       "      <td>NaN</td>\n",
       "      <td>NaN</td>\n",
       "      <td>Delta</td>\n",
       "      <td>NaN</td>\n",
       "      <td>JetBlueNews</td>\n",
       "      <td>NaN</td>\n",
       "      <td>0</td>\n",
       "      <td>@JetBlue Airways Reveals 'Bluemanity' Livery -...</td>\n",
       "      <td>NaN</td>\n",
       "      <td>2015-02-19 01:05:05 -0800</td>\n",
       "      <td>USA</td>\n",
       "      <td>Sydney</td>\n",
       "    </tr>\n",
       "  </tbody>\n",
       "</table>\n",
       "</div>"
      ],
      "text/plain": [
       "             tweet_id airline_sentiment  airline_sentiment_confidence  \\\n",
       "0  569817817522044928          negative                        1.0000   \n",
       "1  569614024578600960          positive                        1.0000   \n",
       "2  569890099917246464          positive                        1.0000   \n",
       "3  567773609939058688          negative                        1.0000   \n",
       "4  568335451741749248          positive                        0.6465   \n",
       "\n",
       "           negativereason  negativereason_confidence         airline  \\\n",
       "0        Cancelled Flight                     1.0000        American   \n",
       "1                     NaN                        NaN  Virgin America   \n",
       "2                     NaN                        NaN           Delta   \n",
       "3  Customer Service Issue                     0.7007          United   \n",
       "4                     NaN                        NaN           Delta   \n",
       "\n",
       "  airline_sentiment_gold             name negativereason_gold  retweet_count  \\\n",
       "0                    NaN       JonGroom90                 NaN              1   \n",
       "1                    NaN  HollywoodHotMom                 NaN              0   \n",
       "2                    NaN    Fahrenheit350                 NaN              0   \n",
       "3                    NaN  bernardfparsons                 NaN              0   \n",
       "4                    NaN      JetBlueNews                 NaN              0   \n",
       "\n",
       "                                                text tweet_coord  \\\n",
       "0  @AmericanAir not only did you Cancelled Flight...         NaN   \n",
       "1  @VirginAmerica you have amazing staff &amp; su...         NaN   \n",
       "2  @JetBlue @jeff_hofmann @DeniseJTaylor @LaurieA...         NaN   \n",
       "3  @united quick response offering assistance but...         NaN   \n",
       "4  @JetBlue Airways Reveals 'Bluemanity' Livery -...         NaN   \n",
       "\n",
       "               tweet_created        tweet_location  \\\n",
       "0  2015-02-23 03:15:29 -0800           Bexleyheath   \n",
       "1  2015-02-22 13:45:41 -0800             All Over!   \n",
       "2  2015-02-23 08:02:42 -0800  Salt Lake City, Utah   \n",
       "3  2015-02-17 11:52:31 -0800       Ontario, Canada   \n",
       "4  2015-02-19 01:05:05 -0800                   USA   \n",
       "\n",
       "                 user_timezone  \n",
       "0                    Amsterdam  \n",
       "1   Pacific Time (US & Canada)  \n",
       "2  Mountain Time (US & Canada)  \n",
       "3   Eastern Time (US & Canada)  \n",
       "4                       Sydney  "
      ]
     },
     "execution_count": 2,
     "metadata": {},
     "output_type": "execute_result"
    }
   ],
   "source": [
    "dataset = pd.read_csv(r'/Users/suraj/OneDrive/Documents/csProjects/stockPrices/Tweets.csv')\n",
    "dataset = dataset.sample(frac=1).reset_index(drop=True)\n",
    "dataset.head()"
   ]
  },
  {
   "cell_type": "code",
   "execution_count": 3,
   "metadata": {},
   "outputs": [
    {
     "data": {
      "text/plain": [
       "(14640, 15)"
      ]
     },
     "execution_count": 3,
     "metadata": {},
     "output_type": "execute_result"
    }
   ],
   "source": [
    "dataset.shape"
   ]
  },
  {
   "cell_type": "code",
   "execution_count": 4,
   "metadata": {
    "scrolled": false
   },
   "outputs": [
    {
     "data": {
      "text/html": [
       "<div>\n",
       "<style scoped>\n",
       "    .dataframe tbody tr th:only-of-type {\n",
       "        vertical-align: middle;\n",
       "    }\n",
       "\n",
       "    .dataframe tbody tr th {\n",
       "        vertical-align: top;\n",
       "    }\n",
       "\n",
       "    .dataframe thead th {\n",
       "        text-align: right;\n",
       "    }\n",
       "</style>\n",
       "<table border=\"1\" class=\"dataframe\">\n",
       "  <thead>\n",
       "    <tr style=\"text-align: right;\">\n",
       "      <th></th>\n",
       "      <th>airline_sentiment</th>\n",
       "      <th>text</th>\n",
       "    </tr>\n",
       "  </thead>\n",
       "  <tbody>\n",
       "    <tr>\n",
       "      <th>0</th>\n",
       "      <td>negative</td>\n",
       "      <td>@AmericanAir not only did you Cancelled Flight...</td>\n",
       "    </tr>\n",
       "    <tr>\n",
       "      <th>1</th>\n",
       "      <td>positive</td>\n",
       "      <td>@VirginAmerica you have amazing staff &amp;amp; su...</td>\n",
       "    </tr>\n",
       "    <tr>\n",
       "      <th>2</th>\n",
       "      <td>positive</td>\n",
       "      <td>@JetBlue @jeff_hofmann @DeniseJTaylor @LaurieA...</td>\n",
       "    </tr>\n",
       "    <tr>\n",
       "      <th>3</th>\n",
       "      <td>negative</td>\n",
       "      <td>@united quick response offering assistance but...</td>\n",
       "    </tr>\n",
       "    <tr>\n",
       "      <th>4</th>\n",
       "      <td>positive</td>\n",
       "      <td>@JetBlue Airways Reveals 'Bluemanity' Livery -...</td>\n",
       "    </tr>\n",
       "  </tbody>\n",
       "</table>\n",
       "</div>"
      ],
      "text/plain": [
       "  airline_sentiment                                               text\n",
       "0          negative  @AmericanAir not only did you Cancelled Flight...\n",
       "1          positive  @VirginAmerica you have amazing staff &amp; su...\n",
       "2          positive  @JetBlue @jeff_hofmann @DeniseJTaylor @LaurieA...\n",
       "3          negative  @united quick response offering assistance but...\n",
       "4          positive  @JetBlue Airways Reveals 'Bluemanity' Livery -..."
      ]
     },
     "execution_count": 4,
     "metadata": {},
     "output_type": "execute_result"
    }
   ],
   "source": [
    "dataset = dataset[['airline_sentiment','text']]\n",
    "dataset.head()"
   ]
  },
  {
   "cell_type": "code",
   "execution_count": 5,
   "metadata": {
    "scrolled": true
   },
   "outputs": [
    {
     "data": {
      "text/plain": [
       "<AxesSubplot:ylabel='Frequency'>"
      ]
     },
     "execution_count": 5,
     "metadata": {},
     "output_type": "execute_result"
    },
    {
     "data": {
      "image/png": "[encoded data removed]",
      "text/plain": [
       "<Figure size 432x288 with 1 Axes>"
      ]
     },
     "metadata": {
      "needs_background": "light"
     },
     "output_type": "display_data"
    }
   ],
   "source": [
    "#plotting average length of tweets\n",
    "\n",
    "%matplotlib inline\n",
    "dataset['text'].str.len().plot.hist()"
   ]
  },
  {
   "cell_type": "code",
   "execution_count": 6,
   "metadata": {
    "scrolled": true
   },
   "outputs": [
    {
     "data": {
      "text/plain": [
       "negative    9178\n",
       "neutral     3099\n",
       "positive    2363\n",
       "Name: airline_sentiment, dtype: int64"
      ]
     },
     "execution_count": 6,
     "metadata": {},
     "output_type": "execute_result"
    }
   ],
   "source": [
    "dataset['airline_sentiment'].value_counts()"
   ]
  },
  {
   "cell_type": "code",
   "execution_count": 7,
   "metadata": {
    "scrolled": true
   },
   "outputs": [
    {
     "data": {
      "text/plain": [
       "<AxesSubplot:>"
      ]
     },
     "execution_count": 7,
     "metadata": {},
     "output_type": "execute_result"
    },
    {
     "data": {
      "image/png": "[encoded data removed]",
      "text/plain": [
       "<Figure size 432x288 with 1 Axes>"
      ]
     },
     "metadata": {
      "needs_background": "light"
     },
     "output_type": "display_data"
    }
   ],
   "source": [
    "#how often do we see these sentiments\n",
    "dataset['airline_sentiment'].value_counts().plot.bar(color={'red', 'blue', 'green'})"
   ]
  },
  {
   "cell_type": "code",
   "execution_count": 8,
   "metadata": {
    "scrolled": true
   },
   "outputs": [
    {
     "data": {
      "text/plain": [
       "0    AmericanAir not only did you Cancelled Flight ...\n",
       "1    VirginAmerica you have amazing staff amp super...\n",
       "2    JetBlue jeffhofmann DeniseJTaylor LaurieAMeach...\n",
       "3    united quick response offering assistance but ...\n",
       "4    JetBlue Airways Reveals Bluemanity Livery  Tra...\n",
       "Name: text, dtype: object"
      ]
     },
     "execution_count": 8,
     "metadata": {},
     "output_type": "execute_result"
    }
   ],
   "source": [
    "#lowercase all text\n",
    "dataset['text'].apply(lambda x: x.lower())\n",
    "#replace random characters with nothing in each text row\n",
    "dataset['text'] = dataset['text'].apply(lambda x: re.sub('[^a-zA-Z0-9\\s]',\"\",x))\n",
    "\n",
    "dataset['text'].head()"
   ]
  },
  {
   "cell_type": "code",
   "execution_count": 9,
   "metadata": {
    "scrolled": true
   },
   "outputs": [
    {
     "data": {
      "text/plain": [
       "array([[   0,    0,    0,    0,    0,    0,   13,   24,  112,  115,    6,\n",
       "          37,    8,   53,    8,   33,  222,   10,  134,   55,  102, 4598,\n",
       "          56,  540,   39,  164,   60,   18,   53,  142,  165,  100,  159],\n",
       "       [   0,    0,    0,    0,    0,    0,    0,    0,    0,    0,    0,\n",
       "           0,    0,   78,    6,   22,  349,  207,   61,  714,  340,   86,\n",
       "           3,   41, 1593,    2, 4599,   54,   22, 3665,   19,   25, 3092],\n",
       "       [   0,    0,    0,    0,    0,    0,    0,    0,    0,    0,    0,\n",
       "           0,    0,    0,    0,    0,    0,    0,    0,    0,    0,    0,\n",
       "          17,  133,   74,   10, 2223,   64,  861, 2718,  119,   15, 1914],\n",
       "       [   0,    0,    0,    0,    0,    0,    0,    0,    0,    0,    0,\n",
       "           0,    0,    0,    0,    0,    5,  593,  195,  928,  581,   31,\n",
       "         553,   18,  285,  182,   24,  132,    2,   42,    3,   23, 1594],\n",
       "       [   0,    0,    0,    0,    0,    0,    0,    0,    0,    0,    0,\n",
       "           0,    0,    0,    0,    0,    0,    0,    0,    0,    0,    0,\n",
       "           0,    0,    0,    0,    0,    0,    0,   17,  396, 2054, 2055],\n",
       "       [   0,    0,    0,    0,    0,    0,    0,    0,    0,    0,    0,\n",
       "           0,    0,    0,    0,    0,    0,    0,    0,    0,    0,   16,\n",
       "          29,   89,    1,   32,    2,  204, 1085,    3,   22,  775,  159],\n",
       "       [   0,    0,    0,    0,    0,    0,    0,    0,    0,    0,    0,\n",
       "           0,    0,    0,    0,    0,    0,    0,    0,   16,   34,    6,\n",
       "         325,    2,   97,   44,    3,   34,  127,   11,    8,  729, 3666]],\n",
       "      dtype=int32)"
      ]
     },
     "execution_count": 9,
     "metadata": {},
     "output_type": "execute_result"
    }
   ],
   "source": [
    "#https://stackoverflow.com/questions/51956000/what-does-keras-tokenizer-method-exactly-do\n",
    "\n",
    "#split sentences to words\n",
    "tokenizer = Tokenizer(num_words=5000, split=\" \")\n",
    "#Updates internal vocabulary based on a list of texts based on frequency (5000 most frequent words)\n",
    "tokenizer.fit_on_texts(dataset['text'].values)\n",
    "\n",
    "#Transforms each text in texts to a sequence of integers\n",
    "X = tokenizer.texts_to_sequences(dataset['text'].values)\n",
    "X = pad_sequences(X)\n",
    "X[:7]\n",
    "\n"
   ]
  },
  {
   "cell_type": "code",
   "execution_count": 10,
   "metadata": {},
   "outputs": [
    {
     "data": {
      "text/plain": [
       "(14640, 33)"
      ]
     },
     "execution_count": 10,
     "metadata": {},
     "output_type": "execute_result"
    }
   ],
   "source": [
    "X.shape"
   ]
  },
  {
   "cell_type": "code",
   "execution_count": 11,
   "metadata": {},
   "outputs": [],
   "source": [
    "model = Sequential()\n",
    "#transform data into a vector space, each vector represents a different word, similar words are close together\n",
    "model.add(Embedding(5000, 256, input_length = X.shape[1]))\n",
    "#to avoid overfitting\n",
    "model.add(Dropout(0.3))\n",
    "#LSTM layer\n",
    "model.add(LSTM(256, return_sequences=True, dropout = 0.3, recurrent_dropout=0.2))\n",
    "model.add(LSTM(256, dropout = 0.3, recurrent_dropout =0.2))\n",
    "model.add(Dense(3, activation = 'softmax'))"
   ]
  },
  {
   "cell_type": "code",
   "execution_count": 12,
   "metadata": {
    "scrolled": true
   },
   "outputs": [
    {
     "name": "stdout",
     "output_type": "stream",
     "text": [
      "Model: \"sequential\"\n",
      "_________________________________________________________________\n",
      "Layer (type)                 Output Shape              Param #   \n",
      "=================================================================\n",
      "embedding (Embedding)        (None, 33, 256)           1280000   \n",
      "_________________________________________________________________\n",
      "dropout (Dropout)            (None, 33, 256)           0         \n",
      "_________________________________________________________________\n",
      "lstm (LSTM)                  (None, 33, 256)           525312    \n",
      "_________________________________________________________________\n",
      "lstm_1 (LSTM)                (None, 256)               525312    \n",
      "_________________________________________________________________\n",
      "dense (Dense)                (None, 3)                 771       \n",
      "=================================================================\n",
      "Total params: 2,331,395\n",
      "Trainable params: 2,331,395\n",
      "Non-trainable params: 0\n",
      "_________________________________________________________________\n"
     ]
    }
   ],
   "source": [
    "model.compile(loss = 'categorical_crossentropy', optimizer='adam', metrics=['accuracy'])\n",
    "model.summary()"
   ]
  },
  {
   "cell_type": "code",
   "execution_count": 13,
   "metadata": {
    "scrolled": true
   },
   "outputs": [
    {
     "name": "stdout",
     "output_type": "stream",
     "text": [
      "negative [1 0 0]\n",
      "positive [0 0 1]\n",
      "positive [0 0 1]\n",
      "negative [1 0 0]\n",
      "positive [0 0 1]\n",
      "positive [0 0 1]\n",
      "negative [1 0 0]\n"
     ]
    },
    {
     "data": {
      "text/plain": [
       "[None, None, None, None, None, None, None]"
      ]
     },
     "execution_count": 13,
     "metadata": {},
     "output_type": "execute_result"
    }
   ],
   "source": [
    "y = pd.get_dummies(dataset['airline_sentiment']).values\n",
    "[print(dataset['airline_sentiment'][i], y[i]) for i in range(0,7)]"
   ]
  },
  {
   "cell_type": "code",
   "execution_count": 14,
   "metadata": {},
   "outputs": [],
   "source": [
    "X_train, X_test, y_train, y_test = train_test_split(X,y, test_size=0.2, random_state=0)"
   ]
  },
  {
   "cell_type": "code",
   "execution_count": 15,
   "metadata": {
    "scrolled": false
   },
   "outputs": [
    {
     "name": "stdout",
     "output_type": "stream",
     "text": [
      "Epoch 1/10\n",
      "366/366 - 68s - loss: 0.6454 - accuracy: 0.7409\n",
      "Epoch 2/10\n",
      "366/366 - 79s - loss: 0.4314 - accuracy: 0.8344\n",
      "Epoch 3/10\n",
      "366/366 - 81s - loss: 0.3497 - accuracy: 0.8660\n",
      "Epoch 4/10\n",
      "366/366 - 85s - loss: 0.2815 - accuracy: 0.8938\n",
      "Epoch 5/10\n",
      "366/366 - 78s - loss: 0.2335 - accuracy: 0.9141\n",
      "Epoch 6/10\n",
      "366/366 - 84s - loss: 0.1943 - accuracy: 0.9290\n",
      "Epoch 7/10\n",
      "366/366 - 93s - loss: 0.1602 - accuracy: 0.9422\n",
      "Epoch 8/10\n",
      "366/366 - 94s - loss: 0.1317 - accuracy: 0.9514\n",
      "Epoch 9/10\n",
      "366/366 - 103s - loss: 0.1153 - accuracy: 0.9590\n",
      "Epoch 10/10\n",
      "366/366 - 102s - loss: 0.0984 - accuracy: 0.9641\n"
     ]
    },
    {
     "data": {
      "text/plain": [
       "<tensorflow.python.keras.callbacks.History at 0x7f8ee6622ac0>"
      ]
     },
     "execution_count": 15,
     "metadata": {},
     "output_type": "execute_result"
    }
   ],
   "source": [
    "batch_size = 32\n",
    "epochs = 10\n",
    "#train the model\n",
    "model.fit(X_train, y_train, epochs = epochs, batch_size = batch_size, verbose=2)"
   ]
  },
  {
   "cell_type": "code",
   "execution_count": 18,
   "metadata": {},
   "outputs": [],
   "source": [
    "model.save(r'/Users/suraj/OneDrive/Documents/csProjects/stockPrices/Sentiment_Model.h5')"
   ]
  },
  {
   "cell_type": "code",
   "execution_count": 19,
   "metadata": {
    "scrolled": true
   },
   "outputs": [
    {
     "name": "stdout",
     "output_type": "stream",
     "text": [
      "AmericanAir not only did you Cancelled Flight our flight from JFK and delay us by 29 hours youve now lost 2 of our bags Worst airline ever [0.05784215 0.93876237 0.00339545] [0 0 1]\n",
      "VirginAmerica you have amazing staff amp super helpful as I just ran the WaltDisneyWorld PrincessHalf they have spoiled me with comfort [9.9998939e-01 8.6899508e-06 1.9424324e-06] [1 0 0]\n",
      "JetBlue jeffhofmann DeniseJTaylor LaurieAMeacham Good one And indeed its JetBlues finest day in history [9.990055e-01 9.133221e-04 8.127094e-05] [1 0 0]\n",
      "united quick response offering assistance but lack of follow through  not really the service I was expecting [9.9758601e-01 7.0177321e-04 1.7121884e-03] [1 0 0]\n",
      "JetBlue Airways Reveals Bluemanity Livery  TravelPulse httptcofTTfyFMvCO [1.0000000e+00 3.5447187e-08 4.5132211e-08] [1 0 0]\n",
      "SouthwestAir This has to be the best video I have seen ever  teamspirit httpstcoX5JenA7NyE [9.9995518e-01 4.2513613e-05 2.2847087e-06] [1 0 0]\n",
      "SouthwestAir can you answer the phone so I can change my flight plans Srsly [9.9996936e-01 2.3467477e-05 7.1693362e-06] [1 0 0]\n"
     ]
    },
    {
     "data": {
      "text/plain": [
       "[None, None, None, None, None, None, None]"
      ]
     },
     "execution_count": 19,
     "metadata": {},
     "output_type": "execute_result"
    }
   ],
   "source": [
    "prediction = model.predict(X_test)\n",
    "\n",
    "[print(dataset['text'][i], prediction[i], y_test[i]) for i in range(0,7)]"
   ]
  },
  {
   "cell_type": "code",
   "execution_count": null,
   "metadata": {},
   "outputs": [],
   "source": []
  }
 ],
 "metadata": {
  "kernelspec": {
   "display_name": "Python 3",
   "language": "python",
   "name": "python3"
  },
  "language_info": {
   "codemirror_mode": {
    "name": "ipython",
    "version": 3
   },
   "file_extension": ".py",
   "mimetype": "text/x-python",
   "name": "python",
   "nbconvert_exporter": "python",
   "pygments_lexer": "ipython3",
   "version": "3.8.3"
  }
 },
 "nbformat": 4,
 "nbformat_minor": 2
}
